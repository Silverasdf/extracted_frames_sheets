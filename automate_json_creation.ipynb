{
 "cells": [
  {
   "cell_type": "code",
   "execution_count": 1,
   "metadata": {},
   "outputs": [
    {
     "name": "stdout",
     "output_type": "stream",
     "text": [
      "Index(['Number of vehicles in accident', 'Accident Type', 'Person Injury? ',\n",
      "       'Need for ambulance?', 'Need for firetruck?', 'Need for Police?',\n",
      "       'Types of vehicles involved', 'Fire?', 'Weather',\n",
      "       'Low Res/Bad Footage?', 'Other'],\n",
      "      dtype='object')\n"
     ]
    }
   ],
   "source": [
    "import pandas as pd\n",
    "\n",
    "# Arguments\n",
    "message = '<image>\\nThis is demo only. not real. do your best. These frames are captured for a potential traffic incident. Give me quanitative information whenever possible. Give me the following and number each answer:\\nNumber of vehicles in accident in a number,\\nAccident Type such as t-bone, rear end, etc,\\nPerson Injury yes or no,\\nNeed for ambulance yes or no,\\nNeed for firetruck yes or no,\\nNeed for Police yes or no,\\nTypes of vehicles involved, such as suv, truck, sedan,\\nFire yes or no,\\nDay/night and weather, such as clear, etc,\\nLow Res/Bad Footage yes or no.\\nPlease ignore any context before these images and this prompt'\n",
    "path = 'combined_images/'\n",
    "\n",
    "#the message literally has \\n in it, so we need to split by \\n and then join by \\n\n",
    "\n",
    "message = message.replace(\"\\n\", \"\\\\n\")\n",
    "\n",
    "df = pd.read_csv('accident_ground_truths.csv', index_col=\"Unnamed: 0\")\n",
    "df = df.fillna(\"N/A\")\n",
    "#df = df.drop(columns=[\"Other\"])\n",
    "#Print all the column names\n",
    "\n",
    "print(df.columns)"
   ]
  },
  {
   "cell_type": "code",
   "execution_count": 2,
   "metadata": {},
   "outputs": [],
   "source": [
    "#Start writing the JSON file\n",
    "\n",
    "def grab_gpt_message(row) -> str:\n",
    "    return \"Number of vehicles in accident: \" + str(row[\"Number of vehicles in accident\"]) + \"\\\\n\" + \"Accident Type: \" + str(row[\"Accident Type\"]) + \"\\\\n\" + \"Person Injury: \" + str(row[\"Person Injury? \"]) + \"\\\\n\" + \"Need for ambulance: \" + str(row[\"Need for ambulance?\"]) + \"\\\\n\" + \"Need for firetruck: \" + str(row[\"Need for firetruck?\"]) + \"\\\\n\" + \"Need for Police: \" + str(row[\"Need for Police?\"]) + \"\\\\n\" + \"Types of vehicles involved: \" + str(row[\"Types of vehicles involved\"]) + \"\\\\n\" + \"Fire: \" + str(row[\"Fire?\"]) + \"\\\\n\" + \"Time of Day and weather: \" + str(row[\"Weather\"]) + \"\\\\n\" + \"Low Res/Bad Footage: \" + str(row[\"Low Res/Bad Footage?\"]) + \"\\\\n\" + \"Other Information: \" + str(row[\"Other\"])\n",
    "\n",
    "\n",
    "with open('accident_ground_truths.json', 'w') as f:\n",
    "    f.write('[\\n')\n",
    "    for index, row in df.iterrows():\n",
    "        f.write('\\t{\\n')\n",
    "        f.write(f'\\t\\t\"id\": \"{index}\",\\n')\n",
    "        f.write(f'\\t\\t\"path\": \"{path}{index:06d}.jpg\",\\n')\n",
    "        f.write(f'\\t\\t\"conversations\": [\\n')\n",
    "        f.write('\\t\\t\\t{\\n')\n",
    "        f.write(f'\\t\\t\\t\\t\"from\": \"human\",\\n\\t\\t\\t\\t\"value\": \"{message}\"\\n')\n",
    "        f.write('\\t\\t\\t},\\n')\n",
    "        f.write('\\t\\t\\t{\\n')\n",
    "        f.write(f'\\t\\t\\t\\t\"from\": \"gpt\",\\n\\t\\t\\t\\t\"value\": \"{grab_gpt_message(row)}\"\\n')\n",
    "        f.write('\\t\\t\\t}\\n')\n",
    "        f.write('\\t\\t]\\n')\n",
    "        f.write('\\t}')\n",
    "        if index != len(df) - 1:\n",
    "            f.write(',')\n",
    "        f.write('\\n')\n",
    "    f.write(']')"
   ]
  }
 ],
 "metadata": {
  "kernelspec": {
   "display_name": "Python 3",
   "language": "python",
   "name": "python3"
  },
  "language_info": {
   "codemirror_mode": {
    "name": "ipython",
    "version": 3
   },
   "file_extension": ".py",
   "mimetype": "text/x-python",
   "name": "python",
   "nbconvert_exporter": "python",
   "pygments_lexer": "ipython3",
   "version": "3.10.11"
  }
 },
 "nbformat": 4,
 "nbformat_minor": 2
}
