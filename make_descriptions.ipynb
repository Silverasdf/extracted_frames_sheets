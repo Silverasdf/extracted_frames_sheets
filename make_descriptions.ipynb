{
 "cells": [
  {
   "cell_type": "code",
   "execution_count": null,
   "metadata": {},
   "outputs": [],
   "source": [
    "traffic_accident_attributes = {\n",
    "    \"ACCIDENT_TYPE\": \"The type of accident.\",\n",
    "    \"EVENT_TYPE\": \"Type of incident event.\",\n",
    "    \"VEHICLE_1_COLL_PT\": \"Collision point on the first vehicle involved in the event.\",\n",
    "    \"VEHICLE_2_COLL_PT\": \"Collision point on the second vehicle involved in the event.\",\n",
    "    \"OBJECT_TYPE\": \"Object involved in the specific accident event.\",\n",
    "    \"DCA\": \"The definitions for classifying accidents.\",\n",
    "    \"ACCIDENT_MONTH\": \"The month in which the accident occurred, derived from 'ACCIDENT_DATE'.\",\n",
    "    \"TIME_PERIOD\": \"The period the accident occurred, derived from 'ACCIDENT_TIME'.\",\n",
    "    \"DAY_OF_WEEK\": \"The day of the week the accident occurred.\",\n",
    "    \"LGA_NAME\": \"The name of local government areas.\",\n",
    "    \"REGION_NAME\": \"The region where the accident occurred.\",\n",
    "    \"DEG_URBAN_NAME\": \"The type of urbanized area for the crash site.\",\n",
    "\n",
    "    \"DRIVER_SEX\": \"The sex of the driver.\",\n",
    "    \"AGE_GROUP\": \"The age group of the driver, derived from 'DRIVER_AGE'.\",\n",
    "    \"ROAD_USER_TYPE\": \"The role of the person at the time of the accident.\",\n",
    "\n",
    "    \"VEHICLE_TYPE\": \"The type or category of vehicle.\",\n",
    "    \"VEHICLE_WEIGHT\": \"The weight or mass of the vehicle. The unit of measurement is kilograms.\",\n",
    "    \"NO_OF_WHEELS\": \"The number of wheels that the vehicle has.\",\n",
    "    \"SEATING_CAPACITY\": \"The number of seats in the vehicle.\",\n",
    "    \"FUEL_TYPE\": \"The type of fuel used by the vehicle.\",\n",
    "    \"VEHICLE_AGE\": \"The age of the vehicle when the accident occurred.\",\n",
    "    \"VEHICLE_BODY_STYLE\": \"The body type of the vehicle.\",\n",
    "    \"TRAILER_TYPE\": \"The type of trailer towed by the vehicle involved in the accident.\",\n",
    "\n",
    "    \"ROAD_TYPE\": \"Type of the highest priority road at the intersection or the road the accident occurred.\",\n",
    "    \"ROAD_GEOMETRY\": \"The layout of the road where the accident occurred.\",\n",
    "    \"SPEED_ZONE\": \"The speed zone at the location of the accident.\",\n",
    "    \"ROAD_SURFACE_TYPE\": \"The type of road surface: 1: Paved 2: Unpaved 3: Gravel 9: Not known.\",\n",
    "    \"ROAD_TYPE_INT\": \"The type or suffix of the intersecting road.\",\n",
    "    \"COMPLEX_INT_NO\": \"Whether or not the segment is part of a complex intersection.\",\n",
    "\n",
    "    \"LIGHT_CONDITION\": \"The light condition or level of brightness at the time of the accident.\",\n",
    "    \"SURFACE_COND\": \"Road surface condition: dry, wet, muddy, snowy, icy, unknown.\",\n",
    "    \"SURFACE_COND_SEQ\": \"Starts with 1 and incremented by 1 if more than one road surface condition.\",\n",
    "    \"ATMOSPH_COND\": \"Atmospheric condition.\",\n",
    "    \"ATMOSPH_COND_SEQ\": \"1 and incremented by 1 if more than one atmospheric condition is entered.\",\n",
    "\n",
    "    \"HELMET_BELT_WORN\": \"Whether or not the person was wearing a helmet or seatbelt at the time of the accident.\",\n",
    "    \"NO_OF_VEHICLES\": \"The number of vehicles involved in the accident.\",\n",
    "    \"LAMPS\": \"Whether the lamps or headlights for the vehicle were alight (on).\",\n",
    "    \"VEHICLE_MOVEMENT\": \"The actual movement of the vehicle before the accident.\",\n",
    "    \"TRAFFIC_CONTROL\": \"The type of traffic control measure in the location where the accident occurred.\",\n",
    "    \"NO_PERSONS\": \"The number of people involved in the accident.\",\n",
    "    \"NO_OCCUPANTS\": \"The number of occupants or people in the vehicle at the time of the accident.\",\n",
    "    \"SUB_DCA\": \"SUB_DCA code and description of the accident.\",\n",
    "    \"SUB_DCA_SEQ\": \"Starts with 1 and is incremented by 1 if more than one sub_dca is entered.\",\n",
    "    \"DRIVER_INTENT\": \"The intent of the driver initially.\"\n",
    "}"
   ]
  },
  {
   "cell_type": "code",
   "execution_count": null,
   "metadata": {},
   "outputs": [],
   "source": [
    "def grab_gpt_message(row) -> str:\n",
    "    return \"There were \" + str(row[\"Number of vehicles in accident\"]) + \" vehicles involved in the accident.\\\\n\" + \\\n",
    "        \"This accident was a \" + str(row[\"Accident Type\"]) + \"\\\\n\" + \\\n",
    "        \"Person Injury: \" + str(row[\"Person Injury? \"]) + \"\\\\n\" + \\\n",
    "        \"Need for ambulance: \" + str(row[\"Need for ambulance?\"]) + \"\\\\n\" + \\\n",
    "        \"Need for firetruck: \" + str(row[\"Need for firetruck?\"]) + \"\\\\n\" + \\\n",
    "        \"Need for Police: \" + str(row[\"Need for Police?\"]) + \"\\\\n\" + \\\n",
    "        \"There were \" + str(row[\"Types of vehicles involved\"]) + \" vehicles involved in the accident. \\\\n\" + \\\n",
    "        \"Fire: \" + str(row[\"Fire?\"]) + \"\\\\n\" + \\\n",
    "        \"The weather was \" + str(row[\"Weather\"]) + \" on this day. \\\\n\" + \\\n",
    "        \"Low Res/Bad Footage: \" + str(row[\"Low Res/Bad Footage?\"]) + \"\\\\n\""
   ]
  }
 ],
 "metadata": {
  "kernelspec": {
   "display_name": "llava",
   "language": "python",
   "name": "python3"
  },
  "language_info": {
   "name": "python",
   "version": "3.10.14"
  }
 },
 "nbformat": 4,
 "nbformat_minor": 2
}
