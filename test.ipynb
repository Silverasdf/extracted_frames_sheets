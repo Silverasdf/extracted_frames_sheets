{
 "cells": [
  {
   "cell_type": "code",
   "execution_count": 28,
   "metadata": {},
   "outputs": [
    {
     "data": {
      "text/plain": [
       "Index(['Number of vehicles in accident', 'Accident Type', 'Person Injury? ',\n",
       "       'Need for ambulance?', 'Need for firetruck?', 'Need for Police?',\n",
       "       'Types of vehicles involved', 'Fire?', 'Weather',\n",
       "       'Low Res/Bad Footage?', 'Other'],\n",
       "      dtype='object')"
      ]
     },
     "execution_count": 28,
     "metadata": {},
     "output_type": "execute_result"
    }
   ],
   "source": [
    "import pandas as pd\n",
    "\n",
    "df = pd.read_csv('accident_ground_truths.csv', index_col=\"Unnamed: 0\")\n",
    "df.fillna(\"N/A\", inplace=True)\n",
    "\n",
    "df.columns"
   ]
  },
  {
   "cell_type": "code",
   "execution_count": 29,
   "metadata": {},
   "outputs": [
    {
     "data": {
      "text/html": [
       "<div>\n",
       "<style scoped>\n",
       "    .dataframe tbody tr th:only-of-type {\n",
       "        vertical-align: middle;\n",
       "    }\n",
       "\n",
       "    .dataframe tbody tr th {\n",
       "        vertical-align: top;\n",
       "    }\n",
       "\n",
       "    .dataframe thead th {\n",
       "        text-align: right;\n",
       "    }\n",
       "</style>\n",
       "<table border=\"1\" class=\"dataframe\">\n",
       "  <thead>\n",
       "    <tr style=\"text-align: right;\">\n",
       "      <th></th>\n",
       "      <th>Number of vehicles in accident</th>\n",
       "      <th>Accident Type</th>\n",
       "      <th>Person Injury?</th>\n",
       "      <th>Need for ambulance?</th>\n",
       "      <th>Need for firetruck?</th>\n",
       "      <th>Need for Police?</th>\n",
       "      <th>Types of vehicles involved</th>\n",
       "      <th>Fire?</th>\n",
       "      <th>Weather</th>\n",
       "      <th>Low Res/Bad Footage?</th>\n",
       "      <th>Other</th>\n",
       "    </tr>\n",
       "  </thead>\n",
       "  <tbody>\n",
       "    <tr>\n",
       "      <th>0</th>\n",
       "      <td>0</td>\n",
       "      <td>N/A</td>\n",
       "      <td>No</td>\n",
       "      <td>No</td>\n",
       "      <td>No</td>\n",
       "      <td>No</td>\n",
       "      <td>N/A</td>\n",
       "      <td>No</td>\n",
       "      <td>Night, Clear</td>\n",
       "      <td>No</td>\n",
       "      <td>No accident occurred</td>\n",
       "    </tr>\n",
       "    <tr>\n",
       "      <th>1</th>\n",
       "      <td>3</td>\n",
       "      <td>Rear-end, spin-out</td>\n",
       "      <td>Yes</td>\n",
       "      <td>No</td>\n",
       "      <td>No</td>\n",
       "      <td>Yes</td>\n",
       "      <td>Sedan x2, SUV</td>\n",
       "      <td>No</td>\n",
       "      <td>Snow, Day, Clear</td>\n",
       "      <td>No</td>\n",
       "      <td>Snow appears to have made the road difficult t...</td>\n",
       "    </tr>\n",
       "    <tr>\n",
       "      <th>2</th>\n",
       "      <td>6</td>\n",
       "      <td>T-Bone</td>\n",
       "      <td>Yes</td>\n",
       "      <td>Yes</td>\n",
       "      <td>Yes</td>\n",
       "      <td>Yes</td>\n",
       "      <td>Sedan, Truck x2, SUV x3</td>\n",
       "      <td>Yes</td>\n",
       "      <td>Day, Clear</td>\n",
       "      <td>No</td>\n",
       "      <td>Debris is visible, sedan catches fire, very vi...</td>\n",
       "    </tr>\n",
       "    <tr>\n",
       "      <th>3</th>\n",
       "      <td>2</td>\n",
       "      <td>T-bone</td>\n",
       "      <td>Yes</td>\n",
       "      <td>Yes</td>\n",
       "      <td>No</td>\n",
       "      <td>Yes</td>\n",
       "      <td>sedan, suv</td>\n",
       "      <td>No</td>\n",
       "      <td>Day, Clear</td>\n",
       "      <td>No</td>\n",
       "      <td>Although no one is visible, it is likely that ...</td>\n",
       "    </tr>\n",
       "    <tr>\n",
       "      <th>4</th>\n",
       "      <td>2</td>\n",
       "      <td>T-Bone</td>\n",
       "      <td>Yes</td>\n",
       "      <td>Yes</td>\n",
       "      <td>No</td>\n",
       "      <td>Yes</td>\n",
       "      <td>suv, truck</td>\n",
       "      <td>No</td>\n",
       "      <td>Night</td>\n",
       "      <td>No</td>\n",
       "      <td>Night conditions make it hard to see the secon...</td>\n",
       "    </tr>\n",
       "    <tr>\n",
       "      <th>...</th>\n",
       "      <td>...</td>\n",
       "      <td>...</td>\n",
       "      <td>...</td>\n",
       "      <td>...</td>\n",
       "      <td>...</td>\n",
       "      <td>...</td>\n",
       "      <td>...</td>\n",
       "      <td>...</td>\n",
       "      <td>...</td>\n",
       "      <td>...</td>\n",
       "      <td>...</td>\n",
       "    </tr>\n",
       "    <tr>\n",
       "      <th>196</th>\n",
       "      <td>2</td>\n",
       "      <td>t-bone</td>\n",
       "      <td>Yes</td>\n",
       "      <td>Yes</td>\n",
       "      <td>No</td>\n",
       "      <td>Yes</td>\n",
       "      <td>bike, van</td>\n",
       "      <td>No</td>\n",
       "      <td>Day, snowy</td>\n",
       "      <td>No</td>\n",
       "      <td>intersection</td>\n",
       "    </tr>\n",
       "    <tr>\n",
       "      <th>197</th>\n",
       "      <td>2</td>\n",
       "      <td>light t-bone</td>\n",
       "      <td>No</td>\n",
       "      <td>No</td>\n",
       "      <td>No</td>\n",
       "      <td>No</td>\n",
       "      <td>bike x2</td>\n",
       "      <td>No</td>\n",
       "      <td>Day, clear</td>\n",
       "      <td>No</td>\n",
       "      <td>little to no injury or damage</td>\n",
       "    </tr>\n",
       "    <tr>\n",
       "      <th>198</th>\n",
       "      <td>2</td>\n",
       "      <td>side-on-side collision</td>\n",
       "      <td>Yes</td>\n",
       "      <td>Yes</td>\n",
       "      <td>No</td>\n",
       "      <td>Yes</td>\n",
       "      <td>sedan, bike</td>\n",
       "      <td>No</td>\n",
       "      <td>Day, clear</td>\n",
       "      <td>No</td>\n",
       "      <td>highway or interstate</td>\n",
       "    </tr>\n",
       "    <tr>\n",
       "      <th>199</th>\n",
       "      <td>2</td>\n",
       "      <td>t-bone</td>\n",
       "      <td>Yes</td>\n",
       "      <td>Yes</td>\n",
       "      <td>No</td>\n",
       "      <td>Yes</td>\n",
       "      <td>sedan, bike</td>\n",
       "      <td>No</td>\n",
       "      <td>Day, clear</td>\n",
       "      <td>No</td>\n",
       "      <td>intersection</td>\n",
       "    </tr>\n",
       "    <tr>\n",
       "      <th>200</th>\n",
       "      <td>2</td>\n",
       "      <td>side-on-side collision</td>\n",
       "      <td>Yes</td>\n",
       "      <td>Yes</td>\n",
       "      <td>No</td>\n",
       "      <td>Yes</td>\n",
       "      <td>sedan, bike</td>\n",
       "      <td>No</td>\n",
       "      <td>Day, clear</td>\n",
       "      <td>No</td>\n",
       "      <td>intersection</td>\n",
       "    </tr>\n",
       "  </tbody>\n",
       "</table>\n",
       "<p>201 rows × 11 columns</p>\n",
       "</div>"
      ],
      "text/plain": [
       "    Number of vehicles in accident           Accident Type Person Injury?   \\\n",
       "0                                0                     N/A              No   \n",
       "1                                3      Rear-end, spin-out             Yes   \n",
       "2                                6                  T-Bone             Yes   \n",
       "3                                2                  T-bone             Yes   \n",
       "4                                2                  T-Bone             Yes   \n",
       "..                             ...                     ...             ...   \n",
       "196                              2                  t-bone             Yes   \n",
       "197                              2            light t-bone              No   \n",
       "198                              2  side-on-side collision             Yes   \n",
       "199                              2                  t-bone             Yes   \n",
       "200                              2  side-on-side collision             Yes   \n",
       "\n",
       "    Need for ambulance? Need for firetruck? Need for Police?  \\\n",
       "0                    No                  No               No   \n",
       "1                    No                  No              Yes   \n",
       "2                   Yes                 Yes              Yes   \n",
       "3                   Yes                  No              Yes   \n",
       "4                   Yes                  No              Yes   \n",
       "..                  ...                 ...              ...   \n",
       "196                 Yes                  No              Yes   \n",
       "197                  No                  No               No   \n",
       "198                 Yes                  No              Yes   \n",
       "199                 Yes                  No              Yes   \n",
       "200                 Yes                  No              Yes   \n",
       "\n",
       "    Types of vehicles involved Fire?           Weather Low Res/Bad Footage?  \\\n",
       "0                          N/A    No      Night, Clear                   No   \n",
       "1                Sedan x2, SUV    No  Snow, Day, Clear                   No   \n",
       "2      Sedan, Truck x2, SUV x3   Yes        Day, Clear                   No   \n",
       "3                   sedan, suv    No        Day, Clear                   No   \n",
       "4                   suv, truck    No             Night                   No   \n",
       "..                         ...   ...               ...                  ...   \n",
       "196                  bike, van    No        Day, snowy                   No   \n",
       "197                    bike x2    No        Day, clear                   No   \n",
       "198               sedan, bike     No        Day, clear                   No   \n",
       "199                sedan, bike    No        Day, clear                   No   \n",
       "200                sedan, bike    No        Day, clear                   No   \n",
       "\n",
       "                                                 Other  \n",
       "0                                 No accident occurred  \n",
       "1    Snow appears to have made the road difficult t...  \n",
       "2    Debris is visible, sedan catches fire, very vi...  \n",
       "3    Although no one is visible, it is likely that ...  \n",
       "4    Night conditions make it hard to see the secon...  \n",
       "..                                                 ...  \n",
       "196                                       intersection  \n",
       "197                      little to no injury or damage  \n",
       "198                              highway or interstate  \n",
       "199                                       intersection  \n",
       "200                                       intersection  \n",
       "\n",
       "[201 rows x 11 columns]"
      ]
     },
     "execution_count": 29,
     "metadata": {},
     "output_type": "execute_result"
    }
   ],
   "source": [
    "df"
   ]
  },
  {
   "cell_type": "code",
   "execution_count": 30,
   "metadata": {},
   "outputs": [
    {
     "data": {
      "text/plain": [
       "Accident Type\n",
       "t-bone                                 67\n",
       "rear-end                               15\n",
       "light t-bone                           14\n",
       "angled t-bone                          10\n",
       "side-on-side collision                 10\n",
       "topple                                 10\n",
       "rear-end collision                      8\n",
       "cause unknown                           7\n",
       "n/a                                     6\n",
       "pedestrian collision                    6\n",
       "spin-out                                5\n",
       "front-end                               5\n",
       "t-bone (angled)                         4\n",
       "front-end collision                     3\n",
       "t-bone into spin-out                    2\n",
       "light pedestrian collision              2\n",
       "rear-end, spin-out                      2\n",
       "slight t-bone                           2\n",
       "spin out into front-end collision       1\n",
       "t-bone?                                 1\n",
       "spin-out into light t-bone              1\n",
       "front-end collision into object         1\n",
       "light side-on-side collision            1\n",
       "loss of control                         1\n",
       "top collision                           1\n",
       "t-bone (angled0                         1\n",
       "light tap                               1\n",
       "angled t-bone?                          1\n",
       "spin-out?                               1\n",
       "car against pedestrian                  1\n",
       "t-bone (light tap)                      1\n",
       "t-bone (high speed)                     1\n",
       "light tap into side                     1\n",
       "light tap, front side on front side     1\n",
       "light tap into spin-out                 1\n",
       "no clear impact                         1\n",
       "slight tap to motorbike                 1\n",
       "front-to-front-side collision           1\n",
       "light tap?                              1\n",
       "t-bone x2                               1\n",
       "object collision                        1\n",
       "Name: count, dtype: int64"
      ]
     },
     "execution_count": 30,
     "metadata": {},
     "output_type": "execute_result"
    }
   ],
   "source": [
    "# get all the unique accident types and their counts\n",
    "\n",
    "df['Accident Type'] = df['Accident Type'].str.lower()\n",
    "\n",
    "df['Accident Type'].value_counts()"
   ]
  },
  {
   "cell_type": "code",
   "execution_count": 31,
   "metadata": {},
   "outputs": [
    {
     "name": "stderr",
     "output_type": "stream",
     "text": [
      "C:\\Users\\ryana\\AppData\\Local\\Temp\\ipykernel_44464\\398839991.py:3: UserWarning: Boolean Series key will be reindexed to match DataFrame index.\n",
      "  df[:100][df['Accident Type'].str.contains('t-bone', case=False)].shape[0]\n"
     ]
    },
    {
     "data": {
      "text/plain": [
       "54"
      ]
     },
     "execution_count": 31,
     "metadata": {},
     "output_type": "execute_result"
    }
   ],
   "source": [
    "#Count the number of accidents with \"t-bone\" in the name\n",
    "\n",
    "df[:100][df['Accident Type'].str.contains('t-bone', case=False)].shape[0]"
   ]
  },
  {
   "cell_type": "code",
   "execution_count": 32,
   "metadata": {},
   "outputs": [
    {
     "name": "stderr",
     "output_type": "stream",
     "text": [
      "C:\\Users\\ryana\\AppData\\Local\\Temp\\ipykernel_44464\\1116014978.py:2: UserWarning: Boolean Series key will be reindexed to match DataFrame index.\n",
      "  df[:100][df['Accident Type'].str.contains('rear', case=False)].shape[0]\n"
     ]
    },
    {
     "data": {
      "text/plain": [
       "10"
      ]
     },
     "execution_count": 32,
     "metadata": {},
     "output_type": "execute_result"
    }
   ],
   "source": [
    "#Count the number of accidents with \"rear-end\" in the name\n",
    "df[:100][df['Accident Type'].str.contains('rear', case=False)].shape[0]"
   ]
  },
  {
   "cell_type": "code",
   "execution_count": 33,
   "metadata": {},
   "outputs": [
    {
     "name": "stderr",
     "output_type": "stream",
     "text": [
      "C:\\Users\\ryana\\AppData\\Local\\Temp\\ipykernel_44464\\1316065278.py:1: UserWarning: Boolean Series key will be reindexed to match DataFrame index.\n",
      "  df[100:][df['Accident Type'].str.contains('t-bone', case=False)].shape[0]\n"
     ]
    },
    {
     "data": {
      "text/plain": [
       "52"
      ]
     },
     "execution_count": 33,
     "metadata": {},
     "output_type": "execute_result"
    }
   ],
   "source": [
    "df[100:][df['Accident Type'].str.contains('t-bone', case=False)].shape[0]"
   ]
  },
  {
   "cell_type": "code",
   "execution_count": 34,
   "metadata": {},
   "outputs": [
    {
     "name": "stderr",
     "output_type": "stream",
     "text": [
      "C:\\Users\\ryana\\AppData\\Local\\Temp\\ipykernel_44464\\366100867.py:1: UserWarning: Boolean Series key will be reindexed to match DataFrame index.\n",
      "  df[100:][df['Accident Type'].str.contains('rear', case=False)].shape[0]\n"
     ]
    },
    {
     "data": {
      "text/plain": [
       "15"
      ]
     },
     "execution_count": 34,
     "metadata": {},
     "output_type": "execute_result"
    }
   ],
   "source": [
    "df[100:][df['Accident Type'].str.contains('rear', case=False)].shape[0]"
   ]
  },
  {
   "cell_type": "code",
   "execution_count": 37,
   "metadata": {},
   "outputs": [
    {
     "name": "stdout",
     "output_type": "stream",
     "text": [
      "2, 3, 4, 5, 6, 7, 8, 9, 10, 12, 15, 16, 18, 19, 21, 22, 23, 24, 25, 28, 34, 35, 36, 38, 39, 41, 44, 45, 48, 52, 53, 54, 55, 56, 58, 59, 60, 61, 62, 63, 65, 69, 71, 72, 74, 79, 83, 86, 88, 90, 91, 97, 98, 99, 101, 102, 104, 105, 106, 109, 111, 115, 116, 117, 119, 120, 121, 122, 124, 127, 129, 130, 131, 132, 133, 134, 135, 139, 142, 145, 148, 154, 159, 160, 161, 163, 168, 169, 171, 173, 174, 175, 176, 177, 178, 179, 180, 181, 182, 184, 187, 189, 191, 196, 197, 199, "
     ]
    }
   ],
   "source": [
    "#What indices are the accidents with \"t-bone\" in the name?\n",
    "indices = df[df['Accident Type'].str.contains('t-bone', case=False)].index\n",
    "for i in indices:\n",
    "    print(i, end=\", \")"
   ]
  },
  {
   "cell_type": "code",
   "execution_count": 39,
   "metadata": {},
   "outputs": [
    {
     "name": "stdout",
     "output_type": "stream",
     "text": [
      "1, 27, 29, 30, 64, 68, 73, 84, 87, 93, 100, 103, 107, 113, 114, 118, 126, 128, 162, 164, 165, 170, 186, 192, 194, "
     ]
    }
   ],
   "source": [
    "indices_rear = df[df['Accident Type'].str.contains('rear', case=False)].index\n",
    "for i in indices_rear:\n",
    "    print(i, end=\", \")"
   ]
  },
  {
   "cell_type": "code",
   "execution_count": 40,
   "metadata": {},
   "outputs": [
    {
     "data": {
      "text/plain": [
       "{1,\n",
       " 2,\n",
       " 3,\n",
       " 4,\n",
       " 5,\n",
       " 6,\n",
       " 7,\n",
       " 8,\n",
       " 9,\n",
       " 10,\n",
       " 12,\n",
       " 15,\n",
       " 16,\n",
       " 18,\n",
       " 19,\n",
       " 21,\n",
       " 22,\n",
       " 23,\n",
       " 24,\n",
       " 25,\n",
       " 27,\n",
       " 28,\n",
       " 29,\n",
       " 30,\n",
       " 34,\n",
       " 35,\n",
       " 36,\n",
       " 38,\n",
       " 39,\n",
       " 41,\n",
       " 44,\n",
       " 45,\n",
       " 48,\n",
       " 52,\n",
       " 53,\n",
       " 54,\n",
       " 55,\n",
       " 56,\n",
       " 58,\n",
       " 59,\n",
       " 60,\n",
       " 61,\n",
       " 62,\n",
       " 63,\n",
       " 64,\n",
       " 65,\n",
       " 68,\n",
       " 69,\n",
       " 71,\n",
       " 72,\n",
       " 73,\n",
       " 74,\n",
       " 79,\n",
       " 83,\n",
       " 84,\n",
       " 86,\n",
       " 87,\n",
       " 88,\n",
       " 90,\n",
       " 91,\n",
       " 93,\n",
       " 97,\n",
       " 98,\n",
       " 99,\n",
       " 100,\n",
       " 101,\n",
       " 102,\n",
       " 103,\n",
       " 104,\n",
       " 105,\n",
       " 106,\n",
       " 107,\n",
       " 109,\n",
       " 111,\n",
       " 113,\n",
       " 114,\n",
       " 115,\n",
       " 116,\n",
       " 117,\n",
       " 118,\n",
       " 119,\n",
       " 120,\n",
       " 121,\n",
       " 122,\n",
       " 124,\n",
       " 126,\n",
       " 127,\n",
       " 128,\n",
       " 129,\n",
       " 130,\n",
       " 131,\n",
       " 132,\n",
       " 133,\n",
       " 134,\n",
       " 135,\n",
       " 139,\n",
       " 142,\n",
       " 145,\n",
       " 148,\n",
       " 154,\n",
       " 159,\n",
       " 160,\n",
       " 161,\n",
       " 162,\n",
       " 163,\n",
       " 164,\n",
       " 165,\n",
       " 168,\n",
       " 169,\n",
       " 170,\n",
       " 171,\n",
       " 173,\n",
       " 174,\n",
       " 175,\n",
       " 176,\n",
       " 177,\n",
       " 178,\n",
       " 179,\n",
       " 180,\n",
       " 181,\n",
       " 182,\n",
       " 184,\n",
       " 186,\n",
       " 187,\n",
       " 189,\n",
       " 191,\n",
       " 192,\n",
       " 194,\n",
       " 196,\n",
       " 197,\n",
       " 199}"
      ]
     },
     "execution_count": 40,
     "metadata": {},
     "output_type": "execute_result"
    }
   ],
   "source": [
    "all_indices = set(indices).union(set(indices_rear))\n",
    "all_indices"
   ]
  }
 ],
 "metadata": {
  "kernelspec": {
   "display_name": "Python 3",
   "language": "python",
   "name": "python3"
  },
  "language_info": {
   "codemirror_mode": {
    "name": "ipython",
    "version": 3
   },
   "file_extension": ".py",
   "mimetype": "text/x-python",
   "name": "python",
   "nbconvert_exporter": "python",
   "pygments_lexer": "ipython3",
   "version": "3.10.11"
  }
 },
 "nbformat": 4,
 "nbformat_minor": 2
}
